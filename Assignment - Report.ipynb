{
  "nbformat": 4,
  "nbformat_minor": 0,
  "metadata": {
    "colab": {
      "name": "Assignment - Report.ipynb",
      "provenance": [],
      "collapsed_sections": [],
      "include_colab_link": true
    },
    "kernelspec": {
      "display_name": "Python 3",
      "name": "python3"
    },
    "language_info": {
      "name": "python"
    }
  },
  "cells": [
    {
      "cell_type": "markdown",
      "metadata": {
        "id": "view-in-github",
        "colab_type": "text"
      },
      "source": [
        "<a href=\"https://colab.research.google.com/github/desmond-rn/ComputationalLogic/blob/prolexa-plus/Assignment%20-%20Report.ipynb\" target=\"_parent\"><img src=\"https://colab.research.google.com/assets/colab-badge.svg\" alt=\"Open In Colab\"/></a>"
      ]
    },
    {
      "cell_type": "markdown",
      "metadata": {
        "id": "i0vSCAwPAleW"
      },
      "source": [
        "# Prolexa Assignment Report \n",
        "This notebook serves are a short report for this 👉 [coursework assignment](https://github.com/desmond-rn/ComputationalLogic/blob/prolexa-plus/assignment.md). It goes thought our implementation of **Negation**, **Default rule**, and **Existential quantification** by means of selected examples. In our implementations, we mostly added (instead of editing) to the preexisting grammar and engine. For this demo, we will be using Prolexa Plus for its ease of use in a Notebook environment. For a more in-depth introduction to Prolexa and Prolexa Plus, see the [Prolexa Plus Demo Notebook](https://github.com/desmond-rn/ComputationalLogic/blob/prolexa-plus/Prolexa_Plus_Demo_Notebook.ipynb)."
      ]
    },
    {
      "cell_type": "markdown",
      "source": [
        "## Setup"
      ],
      "metadata": {
        "id": "kFUgJNr_stIF"
      }
    },
    {
      "cell_type": "markdown",
      "metadata": {
        "id": "hij-_4uHAzIj"
      },
      "source": [
        "Install SWI-Prolog"
      ]
    },
    {
      "cell_type": "code",
      "metadata": {
        "id": "HDY7hKs490UH",
        "colab": {
          "base_uri": "https://localhost:8080/"
        },
        "outputId": "b08b2e17-36f7-4cf3-e1ba-e066168d10bf"
      },
      "source": [
        "!apt-get install swi-prolog -qqq > /dev/null"
      ],
      "execution_count": null,
      "outputs": [
        {
          "output_type": "stream",
          "name": "stdout",
          "text": [
            "Extracting templates from packages: 100%\n"
          ]
        }
      ]
    },
    {
      "cell_type": "markdown",
      "metadata": {
        "id": "URGBePflAi8a"
      },
      "source": [
        "Install Prolexa-Plus"
      ]
    },
    {
      "cell_type": "code",
      "metadata": {
        "id": "LGMiAYLm77DC"
      },
      "source": [
        "%%capture\n",
        "!yes | pip install git+https://github.com/desmond-rn/ComputationalLogic/@neg -qqq > /dev/null"
      ],
      "execution_count": null,
      "outputs": []
    },
    {
      "cell_type": "markdown",
      "metadata": {
        "id": "4Q1TuvlXBFpA"
      },
      "source": [
        "Instantiate Prolexa \n"
      ]
    },
    {
      "cell_type": "code",
      "source": [
        "%%capture\n",
        "!python -m nltk.downloader all      ## Download NLTK data because of changes to `meta_grammar`."
      ],
      "metadata": {
        "id": "QrGXiNcazOYT"
      },
      "execution_count": null,
      "outputs": []
    },
    {
      "cell_type": "code",
      "metadata": {
        "id": "un81VxmqzUMx"
      },
      "source": [
        "## For not displaying the output\n",
        "%%capture   \n",
        "\n",
        "from pyswip import Prolog\n",
        "import prolexa.meta_grammar as meta\n",
        "\n",
        "pl = Prolog()\n",
        "meta.reset_grammar()\n",
        "meta.initialise_prolexa(pl)"
      ],
      "execution_count": null,
      "outputs": []
    },
    {
      "cell_type": "markdown",
      "source": [
        "The `respond()` utility function ."
      ],
      "metadata": {
        "id": "5d16ROFnxmuH"
      }
    },
    {
      "cell_type": "code",
      "source": [
        "## @title Prolexa Interact\n",
        "\n",
        "input = 'tell me all you know'  #@param {type:\"string\"}\n",
        "\n",
        "def respond(input):\n",
        "  first_answer = meta.standardised_query(pl, input)[0]['Output']\n",
        "  print(first_answer)\n",
        "\n",
        "respond(input)"
      ],
      "metadata": {
        "colab": {
          "base_uri": "https://localhost:8080/"
        },
        "id": "9x20VVNfxjp3",
        "outputId": "b2d553fd-4c3e-425d-963f-bbb0212f6a39"
      },
      "execution_count": null,
      "outputs": [
        {
          "output_type": "stream",
          "name": "stdout",
          "text": [
            "b'I know nothing'\n"
          ]
        }
      ]
    },
    {
      "cell_type": "markdown",
      "metadata": {
        "id": "UsWtwSz2BX9l"
      },
      "source": [
        "## Negation\n",
        "\n",
        "This section covers our implementation of Negation in Prolexa. Let's solve the following example:\n",
        "> Every teacher is happy. Donald is not happy. Therefore, Donald is not a teacher."
      ]
    },
    {
      "cell_type": "markdown",
      "source": [
        "First, let's add adequate rules to Prolexa. "
      ],
      "metadata": {
        "id": "u7G7DuTSusBv"
      }
    },
    {
      "cell_type": "code",
      "source": [
        "# respond('forget all you know')"
      ],
      "metadata": {
        "id": "TUx17qp8gw_4"
      },
      "execution_count": null,
      "outputs": []
    },
    {
      "cell_type": "code",
      "metadata": {
        "id": "J-_HAtkIm19i",
        "colab": {
          "base_uri": "https://localhost:8080/"
        },
        "outputId": "e7445946-f30f-468b-df5b-4e53ba59c10a"
      },
      "source": [
        "input = 'every teacher is happy'  #@param {type:\"string\"}\n",
        "respond(input)"
      ],
      "execution_count": null,
      "outputs": [
        {
          "output_type": "stream",
          "name": "stdout",
          "text": [
            "I will remember that every teacher is happy\n"
          ]
        }
      ]
    },
    {
      "cell_type": "code",
      "metadata": {
        "colab": {
          "base_uri": "https://localhost:8080/"
        },
        "outputId": "b332136d-68e9-428f-91a4-23e34d1d2c0d",
        "id": "TUcMpQGwTP_r"
      },
      "source": [
        "input = 'Donald is not happy'  #@param {type:\"string\"}\n",
        "respond(input)"
      ],
      "execution_count": null,
      "outputs": [
        {
          "output_type": "stream",
          "name": "stdout",
          "text": [
            "I will remember that Donald is not happy\n"
          ]
        }
      ]
    },
    {
      "cell_type": "code",
      "source": [
        "respond('tell me everything you know')"
      ],
      "metadata": {
        "colab": {
          "base_uri": "https://localhost:8080/"
        },
        "id": "sSH8SEmqUZ82",
        "outputId": "a012edfa-d989-408e-8ed5-44b80a081652"
      },
      "execution_count": null,
      "outputs": [
        {
          "output_type": "stream",
          "name": "stdout",
          "text": [
            "every teacher is happy. donald is not happy\n"
          ]
        }
      ]
    },
    {
      "cell_type": "markdown",
      "source": [
        "Now let's test our implementation; and the way Prolexa get's to the result."
      ],
      "metadata": {
        "id": "dNFTWThtavti"
      }
    },
    {
      "cell_type": "code",
      "source": [
        "input = 'who is not a teacher'  #@param {type:\"string\"}\n",
        "respond(input)"
      ],
      "metadata": {
        "colab": {
          "base_uri": "https://localhost:8080/"
        },
        "id": "qSWGtsJ9a_zZ",
        "outputId": "fa3ae7a7-9662-450d-a15e-23ec4a81013a"
      },
      "execution_count": null,
      "outputs": [
        {
          "output_type": "stream",
          "name": "stdout",
          "text": [
            "b'donald is not a teacher'\n"
          ]
        }
      ]
    },
    {
      "cell_type": "code",
      "source": [
        "input = 'explain why donald is not a teacher'  #@param {type:\"string\"}\n",
        "respond(input)"
      ],
      "metadata": {
        "colab": {
          "base_uri": "https://localhost:8080/"
        },
        "id": "mO9xPt40f_77",
        "outputId": "44db62ef-a374-4198-ada1-3c08f6a76126"
      },
      "execution_count": null,
      "outputs": [
        {
          "output_type": "stream",
          "name": "stdout",
          "text": [
            "donald is not happy; every teacher is happy; therefore donald is not a teacher\n"
          ]
        }
      ]
    },
    {
      "cell_type": "markdown",
      "source": [
        "Below, we can see that the same result is not obtained for other proper nouns initially in our grammar. This shows that default rule is not (yet) implemented in Prolexa's reasoning. "
      ],
      "metadata": {
        "id": "v4NaKAw7eb6F"
      }
    },
    {
      "cell_type": "code",
      "source": [
        "input = 'explain why peter is not a teacher'  #@param {type:\"string\"}\n",
        "respond(input)"
      ],
      "metadata": {
        "colab": {
          "base_uri": "https://localhost:8080/"
        },
        "id": "hWywE9HNeph-",
        "outputId": "7ed612b9-b4fe-4de1-e28f-61265603245d"
      },
      "execution_count": null,
      "outputs": [
        {
          "output_type": "stream",
          "name": "stdout",
          "text": [
            "Sorry, I don't think this is the case\n"
          ]
        }
      ]
    },
    {
      "cell_type": "markdown",
      "source": [
        "### Changes to the grammar\n",
        "In order for Prolexa to understand the sentences above, we needed to make a few changes to her grammar (see `prolexa_grammar.pl`). Specifically, we added:\n",
        "- the predicate `not` as seen in the lectures:\n",
        "```\n",
        ":- op(900, fy, not).\n",
        "```\n",
        "\n",
        "- the terms `donald`, `happy`, and `teacher` as proper noun, adjective, and noun respectively.\n",
        "\n",
        "- additional clauses for `sentence1` and `verb_phrase` to parse negative sentences like 'Donald is not happy' in singular and plural form. Notice the Prolog goals incorporated into DCG: \n",
        "```\n",
        "sentence1(C) --> proper_noun(N,X),verb_phrase(N,T), {T=[(not X=>L)], C=[(not L:-true )]}.\n",
        "verb_phrase(s,N) --> [is,not],property(s,M), {N=[(not M)]}.\n",
        "verb_phrase(p,N) --> [are,not],property(p,M), {N=[(not M)]}.\n",
        "```\n",
        "- additional clause for negative questions:\n",
        "```\n",
        "question1(not P) --> [who],verb_phrase(s,Q),{Q=[(not _X=>P)]}.\n",
        "```"
      ],
      "metadata": {
        "id": "WOktriavuMxf"
      }
    },
    {
      "cell_type": "markdown",
      "source": [
        "### Changes to the engine\n",
        "\n",
        "Next, we made changes to `prolexa_engine.pl`. Essentially, we reasoned by **contraposition**. Let P and Q be two propositions: proving that `P:-Q` is equivalent to proving that `not(Q):-not(P)`. This was achieved in Prolexa by adding the following clause to the existing `prove_rb` meta-interpreter:\n",
        "```prolog\n",
        "prove_rb(not B,Rulebase,P0,P):-\n",
        "    find_clause((A:-B),Rule,Rulebase),\n",
        "  prove_rb(not A,Rulebase,[p(not B,Rule)|P0],P).\n",
        "```"
      ],
      "metadata": {
        "id": "Oc3QHaoGwtrs"
      }
    },
    {
      "cell_type": "markdown",
      "source": [
        "## Defalut Rule\n",
        "\n",
        "The goal here is to solve problems in the form:\n",
        "> Most birds fly except penguins. Tweety is a bird. Therefore, assuming Tweety is not a penguin, Tweety flies.\n",
        "\n",
        "Let's install and launch the Prolexa branch that contains our Default Rule implementation in our GitHub repository:"
      ],
      "metadata": {
        "id": "stIr8sXzv_dZ"
      }
    },
    {
      "cell_type": "code",
      "source": [
        "%%capture   \n",
        "\n",
        "!yes | pip uninstall prolexa -qqq > /dev/null\n",
        "!yes | pip install git+https://github.com/desmond-rn/ComputationalLogic/@default-rule -qqq > /dev/null\n",
        "\n",
        "# from pyswip import Prolog\n",
        "# import prolexa.meta_grammar as meta\n",
        "\n",
        "pl = Prolog()\n",
        "meta.reset_grammar()\n",
        "meta.initialise_prolexa(pl)"
      ],
      "metadata": {
        "id": "XsgPycsZlMyi"
      },
      "execution_count": null,
      "outputs": []
    },
    {
      "cell_type": "code",
      "source": [
        "respond('forget all you know')"
      ],
      "metadata": {
        "colab": {
          "base_uri": "https://localhost:8080/"
        },
        "outputId": "ab3674a0-5571-45db-a719-3440bb8279ce",
        "id": "_vtNao80kYMw"
      },
      "execution_count": null,
      "outputs": [
        {
          "output_type": "stream",
          "name": "stdout",
          "text": [
            "b'I am a blank slate'\n"
          ]
        }
      ]
    },
    {
      "cell_type": "code",
      "metadata": {
        "colab": {
          "base_uri": "https://localhost:8080/"
        },
        "outputId": "ad844ed1-580d-4029-da11-da1dc91580c4",
        "id": "sC6yZxwbkYM8"
      },
      "source": [
        "input = 'all birds fly except penguins'  #@param {type:\"string\"}\n",
        "respond(input)"
      ],
      "execution_count": null,
      "outputs": [
        {
          "output_type": "stream",
          "name": "stdout",
          "text": [
            "I will remember that all birds fly except penguins\n"
          ]
        }
      ]
    },
    {
      "cell_type": "code",
      "metadata": {
        "colab": {
          "base_uri": "https://localhost:8080/"
        },
        "outputId": "cbbc7949-f647-4636-bcbd-b5891da31b71",
        "id": "i_-5UAbHkYM9"
      },
      "source": [
        "input = 'Tweety is a bird'  #@param {type:\"string\"}\n",
        "respond(input)"
      ],
      "execution_count": null,
      "outputs": [
        {
          "output_type": "stream",
          "name": "stdout",
          "text": [
            "I will remember that Tweety is a bird\n"
          ]
        }
      ]
    },
    {
      "cell_type": "code",
      "source": [
        "respond('tell me everything you know')"
      ],
      "metadata": {
        "colab": {
          "base_uri": "https://localhost:8080/"
        },
        "outputId": "146ebe5e-78b4-4b6e-c494-35add98dfa13",
        "id": "4ZPR9H-tkYM9"
      },
      "execution_count": null,
      "outputs": [
        {
          "output_type": "stream",
          "name": "stdout",
          "text": [
            "all birds fly except penguins. tweety is a bird\n"
          ]
        }
      ]
    },
    {
      "cell_type": "markdown",
      "source": [
        "Now let's test our implementation."
      ],
      "metadata": {
        "id": "yDGG_CWKkYM-"
      }
    },
    {
      "cell_type": "code",
      "source": [
        "input = 'who flies'  #@param {type:\"string\"}\n",
        "respond(input)"
      ],
      "metadata": {
        "colab": {
          "base_uri": "https://localhost:8080/"
        },
        "outputId": "52a0f166-cd96-4707-a2ff-817f276be56e",
        "id": "2maN-AK5kYM-"
      },
      "execution_count": null,
      "outputs": [
        {
          "output_type": "stream",
          "name": "stdout",
          "text": [
            "b'tweety flies'\n"
          ]
        }
      ]
    },
    {
      "cell_type": "code",
      "source": [
        "# meta.reset_grammar()\n",
        "input = 'explain why tweety flies'  #@param {type:\"string\"}\n",
        "respond(input)"
      ],
      "metadata": {
        "colab": {
          "base_uri": "https://localhost:8080/"
        },
        "outputId": "d0f05e36-4d80-4b1b-9efa-aada7a5acd9f",
        "id": "86wr7-P5kYM-"
      },
      "execution_count": null,
      "outputs": [
        {
          "output_type": "stream",
          "name": "stdout",
          "text": [
            "tweety is a bird; all birds fly except penguins; therefore tweety flies\n"
          ]
        }
      ]
    },
    {
      "cell_type": "markdown",
      "source": [
        "When testing our implementation further, we see that when Tweety becomes part of the exceptions (i.e. penguins), the default rule doesn't apply anymore."
      ],
      "metadata": {
        "id": "xTn7E3XUMhq1"
      }
    },
    {
      "cell_type": "code",
      "source": [
        "input = 'Tweety is a penguin'  #@param {type:\"string\"}\n",
        "respond(input)"
      ],
      "metadata": {
        "colab": {
          "base_uri": "https://localhost:8080/"
        },
        "outputId": "16facf30-bbef-482b-ab3a-390f49e621a7",
        "id": "l-y7zLr-NAs3"
      },
      "execution_count": null,
      "outputs": [
        {
          "output_type": "stream",
          "name": "stdout",
          "text": [
            "I will remember that Tweety is a penguin\n"
          ]
        }
      ]
    },
    {
      "cell_type": "code",
      "source": [
        "respond('tell me everything you know')"
      ],
      "metadata": {
        "colab": {
          "base_uri": "https://localhost:8080/"
        },
        "id": "05giXMcRNYih",
        "outputId": "352c02ba-dca6-4a6d-f7ed-6c1889883c39"
      },
      "execution_count": null,
      "outputs": [
        {
          "output_type": "stream",
          "name": "stdout",
          "text": [
            "all birds fly except penguins. tweety is a bird. tweety is a penguin\n"
          ]
        }
      ]
    },
    {
      "cell_type": "code",
      "source": [
        "input = 'explain why tweety flies'  #@param {type:\"string\"}\n",
        "respond(input)"
      ],
      "metadata": {
        "colab": {
          "base_uri": "https://localhost:8080/"
        },
        "outputId": "052ddd7e-1eca-4251-da24-b89f0eb041d0",
        "id": "VkovlGarNAs3"
      },
      "execution_count": null,
      "outputs": [
        {
          "output_type": "stream",
          "name": "stdout",
          "text": [
            "Sorry, I don't think this is the case\n"
          ]
        }
      ]
    },
    {
      "cell_type": "markdown",
      "source": [
        "### Changes to the grammar\n",
        "\n",
        "Our approach to implementing Default Rule was based on our solution for Negation. All the changed made to the grammar and the engine for Negation remain. The new additions to the grammar that are specific to default rule are:\n",
        "\n",
        "- A new clause for `sentence1` to parse sentences containing the word `except`:\n",
        "```\n",
        "sentence1(C) --> determiner(N,M1,M2,_D),\n",
        "                    noun(N,M1),\n",
        "                    verb_phrase(N,M2), \n",
        "                    [except], \n",
        "                    noun(N,M3), \n",
        "                    {C=[(C1:-C2,not C3)], \n",
        "                          M1=(_X2=>C2), \n",
        "                          M2=(_X1=>C1), \n",
        "                          M3=(_X3=>C3)}.\n",
        "```\n",
        "- A few clause for `verb_phrase`:\n",
        "```\n",
        "verb_phrase(s,N) --> [does, not],iverb(p,M), {N=[(not M)]}.\n",
        "verb_phrase(p,N) --> [do, not],iverb(p,M), {N=[(not M)]}.\n",
        "```"
      ],
      "metadata": {
        "id": "sUBVOa6CiAkv"
      }
    },
    {
      "cell_type": "markdown",
      "source": [
        "### Changes to the engine\n",
        "\n",
        "As for the engine, we added a few rules to the `prove-rb` meta-interpreter. These two rules are largely based on the definition of `not` as implemented for 'Negation as Failure' in [chapter 3 of Simply-Logical](https://too.simply-logical.space/src/text/1_part_i/3.3.html).\n",
        "```\n",
        "prove_rb(not A,Rulebase,P0,P):-\n",
        "    prove_rb(A,Rulebase,P0,P), !, fail.\n",
        "prove_rb(not _A,_Rulebase,P,P):-!.\n",
        "``` "
      ],
      "metadata": {
        "id": "cCDx10SyRpP4"
      }
    },
    {
      "cell_type": "markdown",
      "source": [
        "In conclusion for this section, we can see that default-rule is a strong addition to Prolexa, but with consequences. The example below shows that Prolexa can now reach conclusions that she is unable to prove."
      ],
      "metadata": {
        "id": "80ch7wgWkYM-"
      }
    },
    {
      "cell_type": "code",
      "source": [
        "input = 'explain why peter does not fly'  #@param {type:\"string\"}\n",
        "respond(input)"
      ],
      "metadata": {
        "colab": {
          "base_uri": "https://localhost:8080/"
        },
        "outputId": "51584dec-3c77-46b5-f898-52e2d3432dfa",
        "id": "ols9vTpnkYM_"
      },
      "execution_count": null,
      "outputs": [
        {
          "output_type": "stream",
          "name": "stdout",
          "text": [
            "therefore peter does not fly\n"
          ]
        }
      ]
    },
    {
      "cell_type": "markdown",
      "source": [
        "## Existential quantification\n",
        "\n",
        "The goal in this final section is to solve problems in the form:\n",
        "> Some humans are geniuses. Geniuses win prizes. Therefore, some humans win prizes.\n",
        "\n",
        "The reasoning implemented in the previous sections available here. Let's reinstall and launch the appropriate (default) branch from our GitHub repository:"
      ],
      "metadata": {
        "id": "sPiMYLnzlRkk"
      }
    },
    {
      "cell_type": "code",
      "source": [
        "%%capture   \n",
        "\n",
        "!yes | pip uninstall prolexa -qqq > /dev/null\n",
        "!yes | pip install git+https://github.com/desmond-rn/ComputationalLogic/ -qqq > /dev/null\n",
        "\n",
        "pl = Prolog()\n",
        "meta.reset_grammar()\n",
        "meta.initialise_prolexa(pl)"
      ],
      "metadata": {
        "id": "8gxe4HxklRku"
      },
      "execution_count": null,
      "outputs": []
    },
    {
      "cell_type": "code",
      "source": [
        "respond('forget all you know')"
      ],
      "metadata": {
        "colab": {
          "base_uri": "https://localhost:8080/"
        },
        "outputId": "1c4eda7f-49a7-4cdf-9d14-58bc0774b361",
        "id": "UwpchOxelRku"
      },
      "execution_count": null,
      "outputs": [
        {
          "output_type": "stream",
          "name": "stdout",
          "text": [
            "b'I am a blank slate'\n"
          ]
        }
      ]
    },
    {
      "cell_type": "code",
      "metadata": {
        "colab": {
          "base_uri": "https://localhost:8080/"
        },
        "outputId": "aafb4993-9f45-4a0c-cb37-d1f809007198",
        "id": "CThWjrC7lRkv"
      },
      "source": [
        "input = 'Some humans are geniuses'  #@param {type:\"string\"}\n",
        "respond(input)"
      ],
      "execution_count": null,
      "outputs": [
        {
          "output_type": "stream",
          "name": "stdout",
          "text": [
            "I will remember that Some humans are geniuses\n"
          ]
        }
      ]
    },
    {
      "cell_type": "code",
      "metadata": {
        "colab": {
          "base_uri": "https://localhost:8080/"
        },
        "outputId": "ba2abcf1-6db2-4bf9-a060-668bbea7b7cd",
        "id": "ki3aZFyilRkv"
      },
      "source": [
        "input = 'Geniuses win prizes'  #@param {type:\"string\"}\n",
        "respond(input)"
      ],
      "execution_count": null,
      "outputs": [
        {
          "output_type": "stream",
          "name": "stdout",
          "text": [
            "I will remember that Geniuses win prizes\n"
          ]
        }
      ]
    },
    {
      "cell_type": "code",
      "source": [
        "respond('tell me everything you know')"
      ],
      "metadata": {
        "colab": {
          "base_uri": "https://localhost:8080/"
        },
        "outputId": "4a3bb087-d100-457c-b809-342233a93270",
        "id": "zDcEj2hIlRkv"
      },
      "execution_count": null,
      "outputs": [
        {
          "output_type": "stream",
          "name": "stdout",
          "text": [
            "some humans are geniuses. some geniuses are human. every genius wins prizes\n"
          ]
        }
      ]
    },
    {
      "cell_type": "markdown",
      "source": [
        "Notice that Prolexa Plus adds 'some geniuses are humans' in our rule base. This was not the case for Prolexa. Fixing this issue could be part of some future work since it doesn't change our demonstration. Now let's test our implementation (the repetition in the explanation can be explored in a future work)."
      ],
      "metadata": {
        "id": "_XTeCj9PlRkv"
      }
    },
    {
      "cell_type": "code",
      "source": [
        "input = 'who wins prizes'  #@param {type:\"string\"}\n",
        "respond(input)"
      ],
      "metadata": {
        "colab": {
          "base_uri": "https://localhost:8080/"
        },
        "outputId": "2898bdaf-9571-4743-efc8-fce86a68943a",
        "id": "NZlt3exAlRkv"
      },
      "execution_count": null,
      "outputs": [
        {
          "output_type": "stream",
          "name": "stdout",
          "text": [
            "b'some humans win prizes'\n"
          ]
        }
      ]
    },
    {
      "cell_type": "code",
      "source": [
        "# meta.reset_grammar()\n",
        "input = 'explain why some humans win prizes'  #@param {type:\"string\"}\n",
        "respond(input)"
      ],
      "metadata": {
        "colab": {
          "base_uri": "https://localhost:8080/"
        },
        "outputId": "f59354ed-7bb5-4a19-d3a4-11d173ca955f",
        "id": "OIzz1ZlslRkv"
      },
      "execution_count": null,
      "outputs": [
        {
          "output_type": "stream",
          "name": "stdout",
          "text": [
            "some humans are geniuses; every genius wins prizes; some humans are geniuses; therefore some humans win prizes\n"
          ]
        }
      ]
    },
    {
      "cell_type": "markdown",
      "source": [
        "\n",
        "\n",
        "### Changes to the grammar\n",
        "\n",
        "The new additions to the grammar rules are:\n",
        "\n",
        "- New predicates for 'genius' and 'win' declaring them as noun and (intransitive) verb respectively:\n",
        "```\n",
        "pred(genius,   1,[n/genius]).\n",
        "pred(win,     1,[v/win]).\n",
        "```\n",
        "\n",
        "- A new clause for `verb_phrase` in order to treat `win` as a transitive verb. This cheat declares `win` as an intransitive verb followed necessarily by the word 'prizes'. This was an ad hoc solution in run to perform this demo as expected:\n",
        "```\n",
        "verb_phrase(N,M) --> iverb(N,M),[prizes].\n",
        "```\n",
        "\n",
        "- New clauses for `determiner` giving 'some' a \"meaning\" that can be written as a list of two clauses:\n",
        "```\n",
        "determiner(p, sk=>H1, sk=>H2, [(H1:-true),(H2:-true)]) -->[some].\n",
        "determiner(p, sk=>H1, sk=>H2, [(H2:-true),(H1:-true)]) -->[some].\n",
        "```\n",
        "\n"
      ],
      "metadata": {
        "id": "QhBydfxhlRkw"
      }
    },
    {
      "cell_type": "markdown",
      "source": [
        "### Changes to the engine\n",
        "\n",
        "Since we decided to treat the \"meaning\" of the determiner 'some' as a **list of two clauses**, this required extensive additions to the Prolexa engine:\n",
        "\n",
        "- A new `prove_question` clause:\n",
        "```\n",
        "prove_question(Query,SessionId,Answer):-\n",
        "\tfindall(R,prolexa:stored_rule(SessionId,R),Rulebase),\n",
        "\t( prove_rb([Query,SecondQuery],Rulebase) ->\n",
        "\t\ttransform([Query,SecondQuery],Clauses),\n",
        "\t\tphrase(sentence(Clauses),AnswerAtomList),\n",
        "\t\tatomics_to_string(AnswerAtomList,\" \",Answer)\n",
        "\t; Answer = 'Sorry, I don\\'t think this is the case'\n",
        "\t).\t\n",
        "```\n",
        "\n",
        "- Similarly, a new clause for `explain_question` needed for proofs:\n",
        "```\n",
        "explain_question([Query,SecondQuery],SessionId,Answer):-\n",
        "\tfindall(R,prolexa:stored_rule(SessionId,R),Rulebase),\n",
        "\t( prove_rb([Query,SecondQuery],Rulebase,[],Proof) ->\n",
        "\t\tmaplist(pstep2message,Proof,Msg),\n",
        "\t\tphrase(sentence1([(Query:-true),(SecondQuery:-true)]),L),\n",
        "\t\tatomic_list_concat([therefore|L],\" \",Last),\n",
        "\t\tappend(Msg,[Last],Messages),\n",
        "\t\tatomic_list_concat(Messages,\"; \",Answer)\n",
        "\t; Answer = 'Sorry, I don\\'t think this is the case'\n",
        "\t).\n",
        "```\n",
        "\n",
        "- New clauses for `prove_rb`:\n",
        "```\n",
        "prove_rb([true,true],_Rulebase,P,P) :- !.\n",
        "% prove_rb([A,true],Rulebase,P0,P) :- prove_rb(A,Rulebase,P0,P), !.\n",
        "% prove_rb([true,A],Rulebase,P0,P) :- prove_rb(A,Rulebase,P0,P), !.\n",
        "prove_rb([A,C],Rulebase,P0,P):-\n",
        "\tfind_clause([(A:-B),D],Rule,Rulebase),\n",
        "\t(\n",
        "\t\tvar(D) ->  \t\t%%% D is uninstantiated\n",
        "\t\tprove_rb([B,C],Rulebase,[p(A,Rule)|P0],P) \n",
        "\t\t; \n",
        "\t\tD = (C:-E),\n",
        "\t\tprove_rb([B,E],Rulebase,[p(A,Rule),p(C,Rule)|P0],P)\n",
        "\t).\n",
        "```\n",
        "\n",
        "- Another set of clauses needed for proofs:\n",
        "```\n",
        "prove_rb([A,C],Rulebase,P0,P):-\n",
        "\tprove_rb((A,C),Rulebase,P0,P).\n",
        "```\n",
        "\n",
        "- At the heart of our approach, we devised a new strategy for finding body of clauses whose heads are known and unifiable; this with lists:\n",
        "```\n",
        "find_clause(Clause,Rule,[Rule|_Rules]):-\n",
        "\tRule = [Rule1|Rule2],\n",
        "\t(\n",
        "\t\tClause = [Clause1,Clause2] ->\n",
        "\t\t(\n",
        "\t\t\tcopy_term([Rule1],[Clause1]) ->\n",
        "\t\t\t( Rule2 = [El|_] -> Clause2 = El ; true )\n",
        "\t\t\t; copy_term(Rule2,[Clause1]),\n",
        "\t\t\tClause2 = Rule1\n",
        "\t\t)\n",
        "\t\t;\n",
        "\t\t(\n",
        "\t\t\tcopy_term([Rule1],[Clause]) ->\n",
        "\t\t\ttrue\n",
        "\t\t; \tcopy_term(Rule2,[Clause])\n",
        "\t\t)\n",
        "\t).\n",
        "find_clause(Clause,Rule,[_Rule|Rules]):-\n",
        "\tfind_clause(Clause,Rule,Rules).\n",
        "```\n",
        "\n",
        "- Finally, A new clause to turn literals in lists into clauses by adding `true` to their body:\n",
        "```\n",
        "transform([A,B],[(A:-true),(B:-true)]).\n",
        "```"
      ],
      "metadata": {
        "id": "8nXghmnPlRkw"
      }
    },
    {
      "cell_type": "markdown",
      "source": [
        "## Future work\n",
        "\n",
        "Negation, Default Rule and existential quantification are all interesting additions to Prolexa's reasoning capabilities. At the moment, most of these reasoning techniques do not function together. For example, Prolexa is unable to parse the following sentence:\n",
        "> Some humans are not happy\n",
        "\n",
        "Combining these techniques will be part of our future work on this problem, along with implementing disjunction and abduction. The other part will be to make our implementations with Prolexa Plus work as well as they do with Prolexa.  "
      ],
      "metadata": {
        "id": "N7N-xYeSkIBX"
      }
    }
  ]
}
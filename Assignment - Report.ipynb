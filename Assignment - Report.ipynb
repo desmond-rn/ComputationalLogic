{
  "nbformat": 4,
  "nbformat_minor": 0,
  "metadata": {
    "colab": {
      "name": "Assignment - Report.ipynb",
      "provenance": [],
      "collapsed_sections": [],
      "toc_visible": true,
      "include_colab_link": true
    },
    "kernelspec": {
      "display_name": "Python 3",
      "name": "python3"
    },
    "language_info": {
      "name": "python"
    }
  },
  "cells": [
    {
      "cell_type": "markdown",
      "metadata": {
        "id": "view-in-github",
        "colab_type": "text"
      },
      "source": [
        "<a href=\"https://colab.research.google.com/github/desmond-rn/ComputationalLogic/blob/prolexa-plus/Assignment%20-%20Report.ipynb\" target=\"_parent\"><img src=\"https://colab.research.google.com/assets/colab-badge.svg\" alt=\"Open In Colab\"/></a>"
      ]
    },
    {
      "cell_type": "markdown",
      "metadata": {
        "id": "i0vSCAwPAleW"
      },
      "source": [
        "# Prolexa Assignment Report \n",
        "This notebook serves are a short report for this 👉 [coursework assignment](https://github.com/desmond-rn/ComputationalLogic/blob/prolexa-plus/assignment.md). It goes through our implementation of **Negation**, **Default Rule**, and **Existential Quantification** while showcasing selected examples. In our implementations, we mostly added (instead of editing) to the preexisting grammar and engine. For this demo, we will be using Prolexa Plus for its ease of use in a notebook environment. For a more in-depth introduction to Prolexa and Prolexa Plus, see the [Prolexa Plus Demo Notebook](https://github.com/desmond-rn/ComputationalLogic/blob/prolexa-plus/Prolexa_Plus_Demo_Notebook.ipynb)."
      ]
    },
    {
      "cell_type": "markdown",
      "source": [
        "## Setup\n",
        "\n",
        "In this section, we setup the invironnment for our demo. *These steps might take a while to run* !"
      ],
      "metadata": {
        "id": "kFUgJNr_stIF"
      }
    },
    {
      "cell_type": "markdown",
      "metadata": {
        "id": "hij-_4uHAzIj"
      },
      "source": [
        "Install SWI-Prolog."
      ]
    },
    {
      "cell_type": "code",
      "metadata": {
        "id": "HDY7hKs490UH",
        "colab": {
          "base_uri": "https://localhost:8080/"
        },
        "outputId": "bd5d1b4a-1dbd-4f25-ffec-1efc4d50adea"
      },
      "source": [
        "!apt-get install swi-prolog -qqq > /dev/null"
      ],
      "execution_count": 1,
      "outputs": [
        {
          "output_type": "stream",
          "name": "stdout",
          "text": [
            "Extracting templates from packages: 100%\n"
          ]
        }
      ]
    },
    {
      "cell_type": "markdown",
      "metadata": {
        "id": "URGBePflAi8a"
      },
      "source": [
        "Install Prolexa Plus (from the branch in our repository addressing Negation)."
      ]
    },
    {
      "cell_type": "code",
      "metadata": {
        "id": "LGMiAYLm77DC"
      },
      "source": [
        "%%capture\n",
        "!yes | pip install git+https://github.com/desmond-rn/ComputationalLogic/@neg -qqq > /dev/null"
      ],
      "execution_count": 2,
      "outputs": []
    },
    {
      "cell_type": "markdown",
      "metadata": {
        "id": "4Q1TuvlXBFpA"
      },
      "source": [
        "Instantiate Prolexa Plus.\n"
      ]
    },
    {
      "cell_type": "code",
      "metadata": {
        "id": "un81VxmqzUMx"
      },
      "source": [
        "## For not displaying the output\n",
        "%%capture   \n",
        "\n",
        "from pyswip import Prolog\n",
        "import prolexa.meta_grammar as meta\n",
        "\n",
        "pl = Prolog()\n",
        "meta.reset_grammar()\n",
        "meta.initialise_prolexa(pl)"
      ],
      "execution_count": 3,
      "outputs": []
    },
    {
      "cell_type": "markdown",
      "source": [
        "Define the `respond()` utility function."
      ],
      "metadata": {
        "id": "5d16ROFnxmuH"
      }
    },
    {
      "cell_type": "code",
      "source": [
        "## @title Prolexa Interact\n",
        "\n",
        "input = 'tell me all you know'  #@param {type:\"string\"}\n",
        "\n",
        "def respond(input):\n",
        "  first_answer = meta.standardised_query(pl, input)[0]['Output']\n",
        "  if isinstance(first_answer, bytes):\n",
        "    print(\"'\"+str(first_answer, \"utf-8\")+\"'\")\n",
        "  else:\n",
        "    print(\"'\"+first_answer+\"'\")\n",
        "\n",
        "respond(input)"
      ],
      "metadata": {
        "colab": {
          "base_uri": "https://localhost:8080/"
        },
        "id": "9x20VVNfxjp3",
        "outputId": "33530ee2-fc0b-4cc4-8e23-4e12ace68f2f"
      },
      "execution_count": 4,
      "outputs": [
        {
          "output_type": "stream",
          "name": "stdout",
          "text": [
            "'I know nothing'\n"
          ]
        }
      ]
    },
    {
      "cell_type": "markdown",
      "metadata": {
        "id": "UsWtwSz2BX9l"
      },
      "source": [
        "## Negation\n",
        "\n",
        "This section covers our implementation of Negation in Prolexa. Let's illustrate our method on the following example:\n",
        "> Every teacher is happy. Donald is not happy. Therefore, Donald is not a teacher."
      ]
    },
    {
      "cell_type": "markdown",
      "source": [
        "First, let's add adequate rules to Prolexa. "
      ],
      "metadata": {
        "id": "u7G7DuTSusBv"
      }
    },
    {
      "cell_type": "code",
      "source": [
        "respond('forget all you know')"
      ],
      "metadata": {
        "id": "TUx17qp8gw_4",
        "colab": {
          "base_uri": "https://localhost:8080/"
        },
        "outputId": "d25e9eb1-4faa-4809-b015-15d1bb7afa91"
      },
      "execution_count": 5,
      "outputs": [
        {
          "output_type": "stream",
          "name": "stdout",
          "text": [
            "'I am a blank slate'\n"
          ]
        }
      ]
    },
    {
      "cell_type": "code",
      "metadata": {
        "id": "J-_HAtkIm19i",
        "colab": {
          "base_uri": "https://localhost:8080/"
        },
        "outputId": "c268ea54-6fab-495a-8966-5c39c6e53a74"
      },
      "source": [
        "input = 'every teacher is happy'  #@param {type:\"string\"}\n",
        "respond(input)"
      ],
      "execution_count": 6,
      "outputs": [
        {
          "output_type": "stream",
          "name": "stdout",
          "text": [
            "'I will remember that every teacher is happy'\n"
          ]
        }
      ]
    },
    {
      "cell_type": "code",
      "metadata": {
        "colab": {
          "base_uri": "https://localhost:8080/"
        },
        "outputId": "ede41aca-8be0-4b16-f3e1-ef99b99a5403",
        "id": "TUcMpQGwTP_r"
      },
      "source": [
        "input = 'Donald is not happy'  #@param {type:\"string\"}\n",
        "respond(input)"
      ],
      "execution_count": 7,
      "outputs": [
        {
          "output_type": "stream",
          "name": "stdout",
          "text": [
            "'I will remember that Donald is not happy'\n"
          ]
        }
      ]
    },
    {
      "cell_type": "code",
      "source": [
        "respond('tell me everything you know')"
      ],
      "metadata": {
        "colab": {
          "base_uri": "https://localhost:8080/"
        },
        "id": "sSH8SEmqUZ82",
        "outputId": "de189121-65e9-4dcb-a3ea-b8014f1945e2"
      },
      "execution_count": 8,
      "outputs": [
        {
          "output_type": "stream",
          "name": "stdout",
          "text": [
            "'every teacher is happy. donald is not happy'\n"
          ]
        }
      ]
    },
    {
      "cell_type": "markdown",
      "source": [
        "Now let's test our implementation; and the way Prolexa get's to the result."
      ],
      "metadata": {
        "id": "dNFTWThtavti"
      }
    },
    {
      "cell_type": "code",
      "source": [
        "input = 'who is not a teacher'  #@param {type:\"string\"}\n",
        "respond(input)"
      ],
      "metadata": {
        "colab": {
          "base_uri": "https://localhost:8080/"
        },
        "id": "qSWGtsJ9a_zZ",
        "outputId": "8f967e8c-b065-4c54-d9ff-71f7e3ed752a"
      },
      "execution_count": 9,
      "outputs": [
        {
          "output_type": "stream",
          "name": "stdout",
          "text": [
            "'donald is not a teacher'\n"
          ]
        }
      ]
    },
    {
      "cell_type": "code",
      "source": [
        "input = 'explain why donald is not a teacher'  #@param {type:\"string\"}\n",
        "respond(input)"
      ],
      "metadata": {
        "colab": {
          "base_uri": "https://localhost:8080/"
        },
        "id": "mO9xPt40f_77",
        "outputId": "2dc7bfb5-359a-46f9-bf34-0f26b5c371df"
      },
      "execution_count": 10,
      "outputs": [
        {
          "output_type": "stream",
          "name": "stdout",
          "text": [
            "'donald is not happy; every teacher is happy; therefore donald is not a teacher'\n"
          ]
        }
      ]
    },
    {
      "cell_type": "markdown",
      "source": [
        "Below, we can see that the same result is not obtained for other proper nouns initially in our grammar. This shows that Default Rule is not (yet) implemented in Prolexa's reasoning. "
      ],
      "metadata": {
        "id": "v4NaKAw7eb6F"
      }
    },
    {
      "cell_type": "code",
      "source": [
        "input = 'explain why peter is not a teacher'  #@param {type:\"string\"}\n",
        "respond(input)"
      ],
      "metadata": {
        "colab": {
          "base_uri": "https://localhost:8080/"
        },
        "id": "hWywE9HNeph-",
        "outputId": "f3f7749d-4ba0-4af8-db41-30f3ade07553"
      },
      "execution_count": 11,
      "outputs": [
        {
          "output_type": "stream",
          "name": "stdout",
          "text": [
            "'Sorry, I don't think this is the case'\n"
          ]
        }
      ]
    },
    {
      "cell_type": "markdown",
      "source": [
        "### Changes to the grammar\n",
        "In order for Prolexa to understand the sentences above, we made a few changes to her grammar (see `prolexa_grammar.pl`). Specifically, we added:\n",
        "- The predicate `not` as seen in the lectures:\n",
        "```\n",
        ":- op(900, fy, not).\n",
        "```\n",
        "\n",
        "- The terms `donald`, `happy`, and `teacher` as proper noun, adjective, and noun respectively.\n",
        "\n",
        "- Additional clauses for `sentence1` and `verb_phrase` to parse negative sentences like 'Donald is not happy' in singular and plural form, by means of Prolog goals incorporated into DCG: \n",
        "```\n",
        "sentence1(C) --> proper_noun(N,X),verb_phrase(N,T), {T=[(not X=>L)], C=[(not L:-true )]}.\n",
        "verb_phrase(s,N) --> [is,not],property(s,M), {N=[(not M)]}.\n",
        "verb_phrase(p,N) --> [are,not],property(p,M), {N=[(not M)]}.\n",
        "```\n",
        "- Additional clause for negative questions:\n",
        "```\n",
        "question1(not P) --> [who],verb_phrase(s,Q),{Q=[(not _X=>P)]}.\n",
        "```"
      ],
      "metadata": {
        "id": "WOktriavuMxf"
      }
    },
    {
      "cell_type": "markdown",
      "source": [
        "### Changes to the engine\n",
        "\n",
        "Next, we made changes to `prolexa_engine.pl`. Essentially, we reasoned by **contraposition**. Let P and Q be two propositions: proving that `P:-Q` is equivalent to proving that `not(Q):-not(P)`. This was achieved in Prolexa by adding the following clause to the existing `prove_rb` meta-interpreter:\n",
        "```prolog\n",
        "prove_rb(not B,Rulebase,P0,P):-\n",
        "    find_clause((A:-B),Rule,Rulebase),\n",
        "  prove_rb(not A,Rulebase,[p(not B,Rule)|P0],P).\n",
        "```"
      ],
      "metadata": {
        "id": "Oc3QHaoGwtrs"
      }
    },
    {
      "cell_type": "markdown",
      "source": [
        "## Defalut Rule\n",
        "\n",
        "The goal here is to solve problems in the form:\n",
        "> Most birds fly except penguins. Tweety is a bird. Therefore, assuming Tweety is not a penguin, Tweety flies.\n",
        "\n",
        "Let's reinstall and launch Prolexa Plus from the branch in our GitHub repository that contains our Default Rule implementation :"
      ],
      "metadata": {
        "id": "stIr8sXzv_dZ"
      }
    },
    {
      "cell_type": "code",
      "source": [
        "%%capture   \n",
        "\n",
        "!yes | pip uninstall prolexa -qqq > /dev/null\n",
        "!yes | pip install git+https://github.com/desmond-rn/ComputationalLogic/@default-rule -qqq > /dev/null\n",
        "\n",
        "# from pyswip import Prolog\n",
        "# import prolexa.meta_grammar as meta\n",
        "\n",
        "pl = Prolog()\n",
        "meta.reset_grammar()\n",
        "meta.initialise_prolexa(pl)"
      ],
      "metadata": {
        "id": "XsgPycsZlMyi"
      },
      "execution_count": 12,
      "outputs": []
    },
    {
      "cell_type": "code",
      "source": [
        "respond('forget all you know')"
      ],
      "metadata": {
        "colab": {
          "base_uri": "https://localhost:8080/"
        },
        "outputId": "280671ba-2d8d-4865-fef3-da38b31285a3",
        "id": "_vtNao80kYMw"
      },
      "execution_count": 13,
      "outputs": [
        {
          "output_type": "stream",
          "name": "stdout",
          "text": [
            "'I am a blank slate'\n"
          ]
        }
      ]
    },
    {
      "cell_type": "code",
      "metadata": {
        "colab": {
          "base_uri": "https://localhost:8080/"
        },
        "outputId": "d6497023-638f-4e71-ae3d-fcb9bd9e814c",
        "id": "sC6yZxwbkYM8"
      },
      "source": [
        "input = 'all birds fly except penguins'  #@param {type:\"string\"}\n",
        "respond(input)"
      ],
      "execution_count": 14,
      "outputs": [
        {
          "output_type": "stream",
          "name": "stdout",
          "text": [
            "'I will remember that all birds fly except penguins'\n"
          ]
        }
      ]
    },
    {
      "cell_type": "code",
      "metadata": {
        "colab": {
          "base_uri": "https://localhost:8080/"
        },
        "outputId": "bb81242c-1537-4a99-f78a-7ee45403d316",
        "id": "i_-5UAbHkYM9"
      },
      "source": [
        "input = 'Tweety is a bird'  #@param {type:\"string\"}\n",
        "respond(input)"
      ],
      "execution_count": 15,
      "outputs": [
        {
          "output_type": "stream",
          "name": "stdout",
          "text": [
            "'I will remember that Tweety is a bird'\n"
          ]
        }
      ]
    },
    {
      "cell_type": "code",
      "source": [
        "respond('tell me everything you know')"
      ],
      "metadata": {
        "colab": {
          "base_uri": "https://localhost:8080/"
        },
        "outputId": "784d4ed1-5b6a-43ab-bec2-bed0f8cf85e6",
        "id": "4ZPR9H-tkYM9"
      },
      "execution_count": 16,
      "outputs": [
        {
          "output_type": "stream",
          "name": "stdout",
          "text": [
            "'all birds fly except penguins. tweety is a bird'\n"
          ]
        }
      ]
    },
    {
      "cell_type": "markdown",
      "source": [
        "Now let's test our implementation."
      ],
      "metadata": {
        "id": "yDGG_CWKkYM-"
      }
    },
    {
      "cell_type": "code",
      "source": [
        "input = 'who flies'  #@param {type:\"string\"}\n",
        "respond(input)"
      ],
      "metadata": {
        "colab": {
          "base_uri": "https://localhost:8080/"
        },
        "outputId": "d1cffe38-d079-4a49-c0d0-f2b247e73b63",
        "id": "2maN-AK5kYM-"
      },
      "execution_count": 17,
      "outputs": [
        {
          "output_type": "stream",
          "name": "stdout",
          "text": [
            "'tweety flies'\n"
          ]
        }
      ]
    },
    {
      "cell_type": "code",
      "source": [
        "# meta.reset_grammar()\n",
        "input = 'explain why tweety flies'  #@param {type:\"string\"}\n",
        "respond(input)"
      ],
      "metadata": {
        "colab": {
          "base_uri": "https://localhost:8080/"
        },
        "outputId": "db212714-a78a-4bae-a8aa-117e8818dc23",
        "id": "86wr7-P5kYM-"
      },
      "execution_count": 18,
      "outputs": [
        {
          "output_type": "stream",
          "name": "stdout",
          "text": [
            "'tweety is a bird; all birds fly except penguins; therefore tweety flies'\n"
          ]
        }
      ]
    },
    {
      "cell_type": "markdown",
      "source": [
        "Testing our implementation further, we see that when Tweety becomes part of the exceptions (i.e. penguins), the default rule doesn't apply anymore."
      ],
      "metadata": {
        "id": "xTn7E3XUMhq1"
      }
    },
    {
      "cell_type": "code",
      "source": [
        "input = 'Tweety is a penguin'  #@param {type:\"string\"}\n",
        "respond(input)"
      ],
      "metadata": {
        "colab": {
          "base_uri": "https://localhost:8080/"
        },
        "outputId": "658b945b-ab48-45e7-bdea-afc4ac22e064",
        "id": "l-y7zLr-NAs3"
      },
      "execution_count": 19,
      "outputs": [
        {
          "output_type": "stream",
          "name": "stdout",
          "text": [
            "'I will remember that Tweety is a penguin'\n"
          ]
        }
      ]
    },
    {
      "cell_type": "code",
      "source": [
        "respond('tell me everything you know')"
      ],
      "metadata": {
        "colab": {
          "base_uri": "https://localhost:8080/"
        },
        "id": "05giXMcRNYih",
        "outputId": "84c34ec0-bd6c-41b7-b743-7d0c9e4ea8a0"
      },
      "execution_count": 20,
      "outputs": [
        {
          "output_type": "stream",
          "name": "stdout",
          "text": [
            "'all birds fly except penguins. tweety is a bird. tweety is a penguin'\n"
          ]
        }
      ]
    },
    {
      "cell_type": "code",
      "source": [
        "input = 'explain why tweety flies'  #@param {type:\"string\"}\n",
        "respond(input)"
      ],
      "metadata": {
        "colab": {
          "base_uri": "https://localhost:8080/"
        },
        "outputId": "ac753ea2-ae50-4bb5-fd1f-e1e1b2d78182",
        "id": "VkovlGarNAs3"
      },
      "execution_count": 21,
      "outputs": [
        {
          "output_type": "stream",
          "name": "stdout",
          "text": [
            "'Sorry, I don't think this is the case'\n"
          ]
        }
      ]
    },
    {
      "cell_type": "markdown",
      "source": [
        "### Changes to the grammar\n",
        "\n",
        "Our approach to implementing Default Rule was based on our solution for Negation. All the changes made to the grammar and the engine for Negation remain. New additions to the grammar that are specific to Default Rule are:\n",
        "\n",
        "- A new clause for `sentence1` to parse sentences containing the word `except`:\n",
        "```\n",
        "sentence1(C) --> determiner(N,M1,M2,_D),\n",
        "                    noun(N,M1),\n",
        "                    verb_phrase(N,M2), \n",
        "                    [except], \n",
        "                    noun(N,M3), \n",
        "                    {C=[(C1:-C2,not C3)], \n",
        "                          M1=(_X2=>C2), \n",
        "                          M2=(_X1=>C1), \n",
        "                          M3=(_X3=>C3)}.\n",
        "```\n",
        "- A few clauses for `verb_phrase`:\n",
        "```\n",
        "verb_phrase(s,N) --> [does, not],iverb(p,M), {N=[(not M)]}.\n",
        "verb_phrase(p,N) --> [do, not],iverb(p,M), {N=[(not M)]}.\n",
        "```"
      ],
      "metadata": {
        "id": "sUBVOa6CiAkv"
      }
    },
    {
      "cell_type": "markdown",
      "source": [
        "### Changes to the engine\n",
        "\n",
        "As for the engine, we added a few rules to the `prove-rb` meta-interpreter. These two rules are largely based on the definition of `not` as implemented for 'Negation as Failure' in [chapter 3 of Simply-Logical](https://too.simply-logical.space/src/text/1_part_i/3.3.html).\n",
        "```\n",
        "prove_rb(not A,Rulebase,P0,P):-\n",
        "    prove_rb(A,Rulebase,P0,P), !, fail.\n",
        "prove_rb(not _A,_Rulebase,P,P):-!.\n",
        "``` "
      ],
      "metadata": {
        "id": "cCDx10SyRpP4"
      }
    },
    {
      "cell_type": "markdown",
      "source": [
        "In conclusion for this section, we can see that Default Rule is a strong addition to Prolexa, but with consequences. The example below shows that Prolexa can now reach conclusions she is unable to prove."
      ],
      "metadata": {
        "id": "80ch7wgWkYM-"
      }
    },
    {
      "cell_type": "code",
      "source": [
        "input = 'explain why peter does not fly'  #@param {type:\"string\"}\n",
        "respond(input)"
      ],
      "metadata": {
        "colab": {
          "base_uri": "https://localhost:8080/"
        },
        "outputId": "fa54a4be-95b3-4dbb-811d-6a19d4fe8ad5",
        "id": "ols9vTpnkYM_"
      },
      "execution_count": 22,
      "outputs": [
        {
          "output_type": "stream",
          "name": "stdout",
          "text": [
            "'therefore peter does not fly'\n"
          ]
        }
      ]
    },
    {
      "cell_type": "markdown",
      "source": [
        "## Existential Quantification\n",
        "\n",
        "The goal in this final section is to solve problems in the form:\n",
        "> Some humans are geniuses. Geniuses win prizes. Therefore, some humans win prizes.\n",
        "\n",
        "The reasoning implemented in the previous sections is available here. Let's reinstall and launch the appropriate (default) branch from our GitHub repository:"
      ],
      "metadata": {
        "id": "sPiMYLnzlRkk"
      }
    },
    {
      "cell_type": "code",
      "source": [
        "%%capture   \n",
        "\n",
        "!yes | pip uninstall prolexa -qqq > /dev/null\n",
        "!yes | pip install git+https://github.com/desmond-rn/ComputationalLogic/ -qqq > /dev/null\n",
        "\n",
        "pl = Prolog()\n",
        "meta.reset_grammar()\n",
        "meta.initialise_prolexa(pl)"
      ],
      "metadata": {
        "id": "8gxe4HxklRku"
      },
      "execution_count": 23,
      "outputs": []
    },
    {
      "cell_type": "code",
      "source": [
        "respond('forget all you know')"
      ],
      "metadata": {
        "colab": {
          "base_uri": "https://localhost:8080/"
        },
        "outputId": "4df599cf-1f85-442a-c17b-ded805441a2f",
        "id": "UwpchOxelRku"
      },
      "execution_count": 24,
      "outputs": [
        {
          "output_type": "stream",
          "name": "stdout",
          "text": [
            "'I am a blank slate'\n"
          ]
        }
      ]
    },
    {
      "cell_type": "code",
      "metadata": {
        "colab": {
          "base_uri": "https://localhost:8080/"
        },
        "outputId": "32f4e97b-e7d4-47cf-afef-114038244f81",
        "id": "CThWjrC7lRkv"
      },
      "source": [
        "input = 'Some humans are geniuses'  #@param {type:\"string\"}\n",
        "respond(input)"
      ],
      "execution_count": 25,
      "outputs": [
        {
          "output_type": "stream",
          "name": "stdout",
          "text": [
            "'I will remember that Some humans are geniuses'\n"
          ]
        }
      ]
    },
    {
      "cell_type": "code",
      "metadata": {
        "colab": {
          "base_uri": "https://localhost:8080/"
        },
        "outputId": "dd1c5839-73b4-4cc1-e408-36b16942f675",
        "id": "ki3aZFyilRkv"
      },
      "source": [
        "input = 'Geniuses win prizes'  #@param {type:\"string\"}\n",
        "respond(input)"
      ],
      "execution_count": 26,
      "outputs": [
        {
          "output_type": "stream",
          "name": "stdout",
          "text": [
            "'I will remember that Geniuses win prizes'\n"
          ]
        }
      ]
    },
    {
      "cell_type": "code",
      "source": [
        "respond('tell me everything you know')"
      ],
      "metadata": {
        "colab": {
          "base_uri": "https://localhost:8080/"
        },
        "outputId": "d3595806-a012-46f0-cb43-ca02c5a126ae",
        "id": "zDcEj2hIlRkv"
      },
      "execution_count": 27,
      "outputs": [
        {
          "output_type": "stream",
          "name": "stdout",
          "text": [
            "'some humans are geniuses. every genius wins prizes'\n"
          ]
        }
      ]
    },
    {
      "cell_type": "markdown",
      "source": [
        "Now, let's test our implementation."
      ],
      "metadata": {
        "id": "_XTeCj9PlRkv"
      }
    },
    {
      "cell_type": "code",
      "source": [
        "input = 'who wins prizes'  #@param {type:\"string\"}\n",
        "respond(input)"
      ],
      "metadata": {
        "colab": {
          "base_uri": "https://localhost:8080/"
        },
        "outputId": "af118844-53d9-4bbb-8bd7-6a9a7e7162cf",
        "id": "NZlt3exAlRkv"
      },
      "execution_count": 28,
      "outputs": [
        {
          "output_type": "stream",
          "name": "stdout",
          "text": [
            "'some humans win prizes'\n"
          ]
        }
      ]
    },
    {
      "cell_type": "code",
      "source": [
        "# meta.reset_grammar()\n",
        "input = 'explain why some humans win prizes'  #@param {type:\"string\"}\n",
        "respond(input)"
      ],
      "metadata": {
        "colab": {
          "base_uri": "https://localhost:8080/"
        },
        "outputId": "13f1b8d2-ba48-4ad7-f458-ec0d35f6aec3",
        "id": "OIzz1ZlslRkv"
      },
      "execution_count": 29,
      "outputs": [
        {
          "output_type": "stream",
          "name": "stdout",
          "text": [
            "'some humans are geniuses; some humans are geniuses; every genius wins prizes; therefore some humans win prizes'\n"
          ]
        }
      ]
    },
    {
      "cell_type": "markdown",
      "source": [
        "Prolexa explains twice that 'some humans are geniuses'. This is due to our approach based on lists of clauses (see changes to the engine below). Fixing this minor (post-processing) issues could be part of some future work."
      ],
      "metadata": {
        "id": "QXB0VgKj-XLe"
      }
    },
    {
      "cell_type": "markdown",
      "source": [
        "\n",
        "### Changes to the grammar\n",
        "\n",
        "The new additions to the grammar rules are:\n",
        "\n",
        "- New predicates for 'genius' and 'win' declaring them as noun and (intransitive) verb respectively:\n",
        "```\n",
        "pred(genius,   1,[n/genius]).\n",
        "pred(win,     1,[v/win]).\n",
        "```\n",
        "\n",
        "- A new clause for `verb_phrase` in order to treat `win` as a transitive verb. This cheat declares `win` as an intransitive verb followed necessarily by the word 'prizes'. This was an ad hoc solution in order to run this demo as expected:\n",
        "```\n",
        "verb_phrase(N,M) --> iverb(N,M),[prizes].\n",
        "```\n",
        "\n",
        "- A new clause for `determiner` giving 'some' a meaning that can be written as a list of two clauses:\n",
        "```\n",
        "determiner(p, sk=>H1, sk=>H2, [(H2:-true),(H1:-true)]) -->[some].\n",
        "```"
      ],
      "metadata": {
        "id": "QhBydfxhlRkw"
      }
    },
    {
      "cell_type": "markdown",
      "source": [
        "### Changes to the engine\n",
        "\n",
        "Since we decided to treat the meaning of the determiner 'some' as a **list of two clauses**, this required extensive additions to the Prolexa engine:\n",
        "\n",
        "- A new `prove_question` clause:\n",
        "```\n",
        "prove_question(Query,SessionId,Answer):-\n",
        "\tfindall(R,prolexa:stored_rule(SessionId,R),Rulebase),\n",
        "\t( prove_rb([Query,SecondQuery],Rulebase) ->\n",
        "\t\ttransform([Query,SecondQuery],Clauses),\n",
        "\t\tphrase(sentence(Clauses),AnswerAtomList),\n",
        "\t\tatomics_to_string(AnswerAtomList,\" \",Answer)\n",
        "\t; Answer = 'Sorry, I don\\'t think this is the case'\n",
        "\t).\t\n",
        "```\n",
        "\n",
        "- Similarly, a new clause for `explain_question` needed for proofs:\n",
        "```\n",
        "explain_question([Query,SecondQuery],SessionId,Answer):-\n",
        "\tfindall(R,prolexa:stored_rule(SessionId,R),Rulebase),\n",
        "\t( prove_rb([Query,SecondQuery],Rulebase,[],Proof) ->\n",
        "\t\tmaplist(pstep2message,Proof,Msg),\n",
        "\t\tphrase(sentence1([(Query:-true),(SecondQuery:-true)]),L),\n",
        "\t\tatomic_list_concat([therefore|L],\" \",Last),\n",
        "\t\tappend(Msg,[Last],Messages),\n",
        "\t\tatomic_list_concat(Messages,\"; \",Answer)\n",
        "\t; Answer = 'Sorry, I don\\'t think this is the case'\n",
        "\t).\n",
        "```\n",
        "\n",
        "- New clauses for `prove_rb`:\n",
        "```\n",
        "prove_rb([true,true],_Rulebase,P,P) :- !.\n",
        "% prove_rb([A,true],Rulebase,P0,P) :- prove_rb(A,Rulebase,P0,P), !.\n",
        "% prove_rb([true,A],Rulebase,P0,P) :- prove_rb(A,Rulebase,P0,P), !.\n",
        "prove_rb([A,C],Rulebase,P0,P):-\n",
        "\tfind_clause([(A:-B),D],Rule,Rulebase),\n",
        "\t(\n",
        "\t\tvar(D) ->  \t\t%%% D is uninstantiated\n",
        "\t\tprove_rb([B,C],Rulebase,[p(A,Rule)|P0],P) \n",
        "\t\t; \n",
        "\t\tD = (C:-E),\n",
        "\t\tprove_rb([B,E],Rulebase,[p(A,Rule),p(C,Rule)|P0],P)\n",
        "\t).\n",
        "```\n",
        "\n",
        "- Another set of clauses needed for proofs:\n",
        "```\n",
        "prove_rb([A,C],Rulebase,P0,P):-\n",
        "\tprove_rb((A,C),Rulebase,P0,P).\n",
        "```\n",
        "\n",
        "- At the heart of our approach, we devised a new strategy for finding body of clauses whose heads are known and unifiable; this with lists:\n",
        "```\n",
        "find_clause(Clause,Rule,[Rule|_Rules]):-\n",
        "\tRule = [Rule1|Rule2],\n",
        "\t(\n",
        "\t\tClause = [Clause1,Clause2] ->\n",
        "\t\t(\n",
        "\t\t\tcopy_term([Rule1],[Clause1]) ->\n",
        "\t\t\t( Rule2 = [El|_] -> Clause2 = El ; true )\n",
        "\t\t\t; copy_term(Rule2,[Clause1]),\n",
        "\t\t\tClause2 = Rule1\n",
        "\t\t)\n",
        "\t\t;\n",
        "\t\t(\n",
        "\t\t\tcopy_term([Rule1],[Clause]) ->\n",
        "\t\t\ttrue\n",
        "\t\t; \tcopy_term(Rule2,[Clause])\n",
        "\t\t)\n",
        "\t).\n",
        "find_clause(Clause,Rule,[_Rule|Rules]):-\n",
        "\tfind_clause(Clause,Rule,Rules).\n",
        "```\n",
        "\n",
        "- Finally, a new clause to turn literals in lists into clauses by adding `true` to their body:\n",
        "```\n",
        "transform([A,B],[(A:-true),(B:-true)]).\n",
        "```"
      ],
      "metadata": {
        "id": "8nXghmnPlRkw"
      }
    },
    {
      "cell_type": "markdown",
      "source": [
        "## Conclusion\n",
        "\n",
        "This notebook showcases three important resoning strategies we implemented in Prolexa. Though we highlighted most of our work, we left out minor changes we made to the `meta_grammar.py` file. We essentially stopped it from extending the grammar because it was hindering our implemention. \n",
        "\n",
        "Negation, Default Rule and Existential Quantification are all interesting additions to Prolexa's reasoning capabilities. However, at the moment, most of these reasoning techniques do not function together. For example, Prolexa is unable to parse the following sentence:\n",
        "> Some humans are _not_ happy.\n",
        "\n",
        "Combining these techniques will be part of our future work, along with implementing disjunction and abduction. The other part of the work will attempt to make our implementation with Prolexa Plus' extended grammar work as well as it does with Prolexa."
      ],
      "metadata": {
        "id": "N7N-xYeSkIBX"
      }
    }
  ]
}
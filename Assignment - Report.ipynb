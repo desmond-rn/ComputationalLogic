{
  "nbformat": 4,
  "nbformat_minor": 0,
  "metadata": {
    "colab": {
      "name": "Assignment - Report.ipynb",
      "provenance": [],
      "collapsed_sections": [],
      "toc_visible": true,
      "include_colab_link": true
    },
    "kernelspec": {
      "display_name": "Python 3",
      "name": "python3"
    },
    "language_info": {
      "name": "python"
    }
  },
  "cells": [
    {
      "cell_type": "markdown",
      "metadata": {
        "id": "view-in-github",
        "colab_type": "text"
      },
      "source": [
        "<a href=\"https://colab.research.google.com/github/desmond-rn/ComputationalLogic/blob/default-rule/Assignment%20-%20Report.ipynb\" target=\"_parent\"><img src=\"https://colab.research.google.com/assets/colab-badge.svg\" alt=\"Open In Colab\"/></a>"
      ]
    },
    {
      "cell_type": "markdown",
      "metadata": {
        "id": "i0vSCAwPAleW"
      },
      "source": [
        "# Prolexa Assignment Report \n",
        "This notebook serves are a short report for this 👉 [coursework assignment](https://github.com/desmond-rn/ComputationalLogic/blob/prolexa-plus/assignment.md). It goes thought our implementation of **Negation**, **Deault rule**, and **Existential quantification** by means of selected examples. In our implementations, we mostly added (instead of editing) to the preeixiting grammar and engine. For this demo, we will be using Prloxa Plus for its ease of use in a Notebook environment. For a more in-depth introduction to Prolexa and Prolexa Plus, see the [Prolexa Plus Demo Notebook](https://github.com/desmond-rn/ComputationalLogic/blob/prolexa-plus/Prolexa_Plus_Demo_Notebook.ipynb).\n"
      ]
    },
    {
      "cell_type": "markdown",
      "source": [
        "## Setup"
      ],
      "metadata": {
        "id": "kFUgJNr_stIF"
      }
    },
    {
      "cell_type": "markdown",
      "metadata": {
        "id": "hij-_4uHAzIj"
      },
      "source": [
        "Install SWI-Prolog"
      ]
    },
    {
      "cell_type": "code",
      "metadata": {
        "id": "HDY7hKs490UH",
        "colab": {
          "base_uri": "https://localhost:8080/"
        },
        "outputId": "86d02f74-61d2-4117-f075-8343a027f72a"
      },
      "source": [
        "!apt-get install swi-prolog -qqq > /dev/null"
      ],
      "execution_count": 1,
      "outputs": [
        {
          "output_type": "stream",
          "name": "stdout",
          "text": [
            "Extracting templates from packages: 100%\n"
          ]
        }
      ]
    },
    {
      "cell_type": "markdown",
      "metadata": {
        "id": "URGBePflAi8a"
      },
      "source": [
        "Install Prolexa-Plus"
      ]
    },
    {
      "cell_type": "code",
      "metadata": {
        "id": "LGMiAYLm77DC",
        "colab": {
          "base_uri": "https://localhost:8080/"
        },
        "outputId": "48cd6b39-f528-4969-b35d-77ddc5b373d4"
      },
      "source": [
        "!yes | pip install git+https://github.com/desmond-rn/ComputationalLogic/@neg -qqq > /dev/null"
      ],
      "execution_count": 2,
      "outputs": [
        {
          "output_type": "stream",
          "name": "stdout",
          "text": [
            "\u001b[31m  ERROR: Failed building wheel for prolexa\u001b[0m\n",
            "\u001b[33m  DEPRECATION: prolexa was installed using the legacy 'setup.py install' method, because a wheel could not be built for it. A possible replacement is to fix the wheel build issue reported above. You can find discussion regarding this at https://github.com/pypa/pip/issues/8368.\u001b[0m\n",
            "\u001b[31mERROR: pip's dependency resolver does not currently take into account all the packages that are installed. This behaviour is the source of the following dependency conflicts.\n",
            "markdown 3.3.6 requires importlib-metadata>=4.4; python_version < \"3.10\", but you have importlib-metadata 3.10.1 which is incompatible.\n",
            "google-colab 1.0.0 requires requests~=2.23.0, but you have requests 2.26.0 which is incompatible.\n",
            "datascience 0.10.6 requires folium==0.2.1, but you have folium 0.8.3 which is incompatible.\u001b[0m\n"
          ]
        }
      ]
    },
    {
      "cell_type": "markdown",
      "metadata": {
        "id": "4Q1TuvlXBFpA"
      },
      "source": [
        "Instantiate Prolexa \n"
      ]
    },
    {
      "cell_type": "code",
      "source": [
        "%%capture\n",
        "!python -m nltk.downloader all      ## Download NLTK data because of changes to `meta_grammar`."
      ],
      "metadata": {
        "id": "QrGXiNcazOYT"
      },
      "execution_count": 3,
      "outputs": []
    },
    {
      "cell_type": "code",
      "metadata": {
        "id": "un81VxmqzUMx"
      },
      "source": [
        "## For not displaying the output\n",
        "%%capture   \n",
        "\n",
        "from pyswip import Prolog\n",
        "import prolexa.meta_grammar as meta\n",
        "\n",
        "pl = Prolog()\n",
        "meta.reset_grammar()\n",
        "meta.initialise_prolexa(pl)"
      ],
      "execution_count": 4,
      "outputs": []
    },
    {
      "cell_type": "markdown",
      "source": [
        "The `respond()` utility function ."
      ],
      "metadata": {
        "id": "5d16ROFnxmuH"
      }
    },
    {
      "cell_type": "code",
      "source": [
        "## @title Prolexa Interact\n",
        "\n",
        "input = 'tell me all you know'  #@param {type:\"string\"}\n",
        "\n",
        "def respond(input):\n",
        "  first_answer = meta.standardised_query(pl, input)[0]['Output']\n",
        "  print(first_answer)\n",
        "\n",
        "respond(input)"
      ],
      "metadata": {
        "colab": {
          "base_uri": "https://localhost:8080/"
        },
        "id": "9x20VVNfxjp3",
        "outputId": "ab632aca-674c-44ec-f2e6-d749aa82b0b8"
      },
      "execution_count": 5,
      "outputs": [
        {
          "output_type": "stream",
          "name": "stdout",
          "text": [
            "b'I know nothing'\n"
          ]
        }
      ]
    },
    {
      "cell_type": "markdown",
      "metadata": {
        "id": "UsWtwSz2BX9l"
      },
      "source": [
        "## Negation\n",
        "\n",
        "This section covers our implementaiton of Negation in Prolexa. Let's solve the following example:\n",
        "> Every teacher is happy. Donald is not happy. Therefore, Donald is not a teacher."
      ]
    },
    {
      "cell_type": "markdown",
      "source": [
        "First, let's add adequate rules to Prolexa. "
      ],
      "metadata": {
        "id": "u7G7DuTSusBv"
      }
    },
    {
      "cell_type": "code",
      "source": [
        "# respond('forget all you know')"
      ],
      "metadata": {
        "id": "TUx17qp8gw_4"
      },
      "execution_count": 6,
      "outputs": []
    },
    {
      "cell_type": "code",
      "metadata": {
        "id": "J-_HAtkIm19i",
        "colab": {
          "base_uri": "https://localhost:8080/"
        },
        "outputId": "d357a53c-f574-415c-91e3-54a1656f8929"
      },
      "source": [
        "input = 'every teacher is happy'  #@param {type:\"string\"}\n",
        "respond(input)"
      ],
      "execution_count": 7,
      "outputs": [
        {
          "output_type": "stream",
          "name": "stdout",
          "text": [
            "I will remember that every teacher is happy\n"
          ]
        }
      ]
    },
    {
      "cell_type": "code",
      "metadata": {
        "colab": {
          "base_uri": "https://localhost:8080/"
        },
        "outputId": "2db20982-f9cc-4e25-bcd8-3b17b7e1d7e3",
        "id": "TUcMpQGwTP_r"
      },
      "source": [
        "input = 'Donald is not happy'  #@param {type:\"string\"}\n",
        "respond(input)"
      ],
      "execution_count": 8,
      "outputs": [
        {
          "output_type": "stream",
          "name": "stdout",
          "text": [
            "I will remember that Donald is not happy\n"
          ]
        }
      ]
    },
    {
      "cell_type": "code",
      "source": [
        "respond('tell me everything you know')"
      ],
      "metadata": {
        "colab": {
          "base_uri": "https://localhost:8080/"
        },
        "id": "sSH8SEmqUZ82",
        "outputId": "9a46b4e5-f3d9-4c6e-df49-500306921ff5"
      },
      "execution_count": 9,
      "outputs": [
        {
          "output_type": "stream",
          "name": "stdout",
          "text": [
            "every teacher is happy. donald is not happy\n"
          ]
        }
      ]
    },
    {
      "cell_type": "markdown",
      "source": [
        "Now let's test our implementation; and the way Prolexa get's to the result."
      ],
      "metadata": {
        "id": "dNFTWThtavti"
      }
    },
    {
      "cell_type": "code",
      "source": [
        "input = 'who is not a teacher'  #@param {type:\"string\"}\n",
        "respond(input)"
      ],
      "metadata": {
        "colab": {
          "base_uri": "https://localhost:8080/"
        },
        "id": "qSWGtsJ9a_zZ",
        "outputId": "88361c7a-4ec1-4d6e-e6a7-a20389cb9576"
      },
      "execution_count": 10,
      "outputs": [
        {
          "output_type": "stream",
          "name": "stdout",
          "text": [
            "b'donald is not a teacher'\n"
          ]
        }
      ]
    },
    {
      "cell_type": "code",
      "source": [
        "input = 'explain why donald is not a teacher'  #@param {type:\"string\"}\n",
        "respond(input)"
      ],
      "metadata": {
        "colab": {
          "base_uri": "https://localhost:8080/"
        },
        "id": "mO9xPt40f_77",
        "outputId": "72c6c594-a3ba-4375-d479-cd7088faf12c"
      },
      "execution_count": 11,
      "outputs": [
        {
          "output_type": "stream",
          "name": "stdout",
          "text": [
            "donald is not happy; every teacher is happy; therefore donald is not a teacher\n"
          ]
        }
      ]
    },
    {
      "cell_type": "markdown",
      "source": [
        "Below, we can see that the same result is not obtained for other proper nouns initially in our grammar. This shows that default rule is not (yet) implemented in Prolexa's reasoning. "
      ],
      "metadata": {
        "id": "v4NaKAw7eb6F"
      }
    },
    {
      "cell_type": "code",
      "source": [
        "input = 'explain why peter is not a teacher'  #@param {type:\"string\"}\n",
        "respond(input)"
      ],
      "metadata": {
        "colab": {
          "base_uri": "https://localhost:8080/"
        },
        "id": "hWywE9HNeph-",
        "outputId": "3d98d9f3-31ca-4492-af30-91226201267b"
      },
      "execution_count": 12,
      "outputs": [
        {
          "output_type": "stream",
          "name": "stdout",
          "text": [
            "Sorry, I don't think this is the case\n"
          ]
        }
      ]
    },
    {
      "cell_type": "markdown",
      "source": [
        "### Changes to the grammar\n",
        "In order for Prolexa to understang the sentences above, we needed to make a few changes to her grammar (see `prolexa_grammar.pl`). Speciffically, we added:\n",
        "- the predicate `not` as seen in the lectures:\n",
        "```\n",
        ":- op(900, fy, not).\n",
        "```\n",
        "\n",
        "- the terms `donald`, `happy`, and `teacher` as proper noun, adjective, and noun respectively.\n",
        "\n",
        "- additional clauses for `sentence1` and `verb_phrase` to parse negative sentences like 'Donald is not happy' in singular and plural form. Notice the Prolog goals incorporeated into DCG: \n",
        "```\n",
        "sentence1(C) --> proper_noun(N,X),verb_phrase(N,T), {T=[(not X=>L)], C=[(not L:-true )]}.\n",
        "verb_phrase(s,N) --> [is,not],property(s,M), {N=[(not M)]}.\n",
        "verb_phrase(p,N) --> [are,not],property(p,M), {N=[(not M)]}.\n",
        "```\n",
        "- additional clause for negative questions:\n",
        "```\n",
        "question1(not P) --> [who],verb_phrase(s,Q),{Q=[(not _X=>P)]}.\n",
        "```"
      ],
      "metadata": {
        "id": "WOktriavuMxf"
      }
    },
    {
      "cell_type": "markdown",
      "source": [
        "### Changes to the engine\n",
        "\n",
        "Next, we made changes to `prolexa_engine.pl`. Essentially, we reasonned by contraposition. Let P and Q be two propositions: proving that `P:-Q` is equivalent to proving that `not(Q):-not(P)`. This was acheived in Prolexa by adding the following clause to the existing `prove_rb` meta-interpreter:\n",
        "```prolog\n",
        "prove_rb(not B,Rulebase,P0,P):-\n",
        "    find_clause((A:-B),Rule,Rulebase),\n",
        "\tprove_rb(not A,Rulebase,[p(not B,Rule)|P0],P).\n",
        "```"
      ],
      "metadata": {
        "id": "Oc3QHaoGwtrs"
      }
    },
    {
      "cell_type": "markdown",
      "source": [
        "## Defalut Rule\n",
        "\n",
        "The goal here is to solve problems in the form:\n",
        "> Most birds fly except penguins. Tweety is a bird. Therefore, assuming Tweety is not a penguin, Tweety flies.\n",
        "\n",
        "Let's install and launch the prolexa branch that contains our default-rule implementation:"
      ],
      "metadata": {
        "id": "stIr8sXzv_dZ"
      }
    },
    {
      "cell_type": "code",
      "source": [
        "%%capture   \n",
        "\n",
        "!yes | pip uninstall prolexa -qqq > /dev/null\n",
        "!yes | pip install git+https://github.com/desmond-rn/ComputationalLogic/@default-rule -qqq > /dev/null\n",
        "\n",
        "# from pyswip import Prolog\n",
        "# import prolexa.meta_grammar as meta\n",
        "\n",
        "pl = Prolog()\n",
        "meta.reset_grammar()\n",
        "meta.initialise_prolexa(pl)"
      ],
      "metadata": {
        "id": "XsgPycsZlMyi"
      },
      "execution_count": 13,
      "outputs": []
    },
    {
      "cell_type": "code",
      "source": [
        "respond('forget all you know')"
      ],
      "metadata": {
        "colab": {
          "base_uri": "https://localhost:8080/"
        },
        "outputId": "79735562-4282-4d1a-e66a-eac6a3714724",
        "id": "_vtNao80kYMw"
      },
      "execution_count": 14,
      "outputs": [
        {
          "output_type": "stream",
          "name": "stdout",
          "text": [
            "b'I am a blank slate'\n"
          ]
        }
      ]
    },
    {
      "cell_type": "code",
      "metadata": {
        "colab": {
          "base_uri": "https://localhost:8080/"
        },
        "outputId": "3ad328aa-9ffb-4336-9f5d-c4e583df1288",
        "id": "sC6yZxwbkYM8"
      },
      "source": [
        "input = 'all birds fly except penguins'  #@param {type:\"string\"}\n",
        "respond(input)"
      ],
      "execution_count": 15,
      "outputs": [
        {
          "output_type": "stream",
          "name": "stdout",
          "text": [
            "I will remember that all birds fly except penguins\n"
          ]
        }
      ]
    },
    {
      "cell_type": "code",
      "metadata": {
        "colab": {
          "base_uri": "https://localhost:8080/"
        },
        "outputId": "1fcfc872-ecf8-4075-b78e-13cab5092abb",
        "id": "i_-5UAbHkYM9"
      },
      "source": [
        "input = 'Tweety is a bird'  #@param {type:\"string\"}\n",
        "respond(input)"
      ],
      "execution_count": 16,
      "outputs": [
        {
          "output_type": "stream",
          "name": "stdout",
          "text": [
            "I will remember that Tweety is a bird\n"
          ]
        }
      ]
    },
    {
      "cell_type": "code",
      "source": [
        "respond('tell me everything you know')"
      ],
      "metadata": {
        "colab": {
          "base_uri": "https://localhost:8080/"
        },
        "outputId": "238a87f3-5217-40aa-af0e-fe14e9605f9c",
        "id": "4ZPR9H-tkYM9"
      },
      "execution_count": 17,
      "outputs": [
        {
          "output_type": "stream",
          "name": "stdout",
          "text": [
            "all birds fly except penguins. tweety is a bird\n"
          ]
        }
      ]
    },
    {
      "cell_type": "markdown",
      "source": [
        "Now let's test our implementation."
      ],
      "metadata": {
        "id": "yDGG_CWKkYM-"
      }
    },
    {
      "cell_type": "code",
      "source": [
        "input = 'who flies'  #@param {type:\"string\"}\n",
        "respond(input)"
      ],
      "metadata": {
        "colab": {
          "base_uri": "https://localhost:8080/"
        },
        "outputId": "92b066dc-f1e7-4d6c-953f-067f8aa80f70",
        "id": "2maN-AK5kYM-"
      },
      "execution_count": 18,
      "outputs": [
        {
          "output_type": "stream",
          "name": "stdout",
          "text": [
            "b'tweety flies'\n"
          ]
        }
      ]
    },
    {
      "cell_type": "code",
      "source": [
        "# meta.reset_grammar()\n",
        "input = 'explain why tweety flies'  #@param {type:\"string\"}\n",
        "respond(input)"
      ],
      "metadata": {
        "colab": {
          "base_uri": "https://localhost:8080/"
        },
        "outputId": "dea37859-4e87-4d5b-dffd-93f8fa20bf7c",
        "id": "86wr7-P5kYM-"
      },
      "execution_count": 19,
      "outputs": [
        {
          "output_type": "stream",
          "name": "stdout",
          "text": [
            "tweety is a bird; all birds fly except penguins; therefore tweety flies\n"
          ]
        }
      ]
    },
    {
      "cell_type": "markdown",
      "source": [
        "When testing our implementation further, we see that when Tweety becomes part of the exeption (i.e. penguins), the default rule doesnt apply anymore."
      ],
      "metadata": {
        "id": "xTn7E3XUMhq1"
      }
    },
    {
      "cell_type": "code",
      "source": [
        "input = 'Tweety is a penguin'  #@param {type:\"string\"}\n",
        "respond(input)"
      ],
      "metadata": {
        "colab": {
          "base_uri": "https://localhost:8080/"
        },
        "outputId": "22627638-ec21-4ae1-d6a1-756df3712f2c",
        "id": "l-y7zLr-NAs3"
      },
      "execution_count": 20,
      "outputs": [
        {
          "output_type": "stream",
          "name": "stdout",
          "text": [
            "I will remember that Tweety is a penguin\n"
          ]
        }
      ]
    },
    {
      "cell_type": "code",
      "source": [
        "respond('tell me everything you know')"
      ],
      "metadata": {
        "colab": {
          "base_uri": "https://localhost:8080/"
        },
        "id": "05giXMcRNYih",
        "outputId": "ee40ecc7-6b04-430f-c280-b8fd37ee4d93"
      },
      "execution_count": 21,
      "outputs": [
        {
          "output_type": "stream",
          "name": "stdout",
          "text": [
            "all birds fly except penguins. tweety is a bird. tweety is a penguin\n"
          ]
        }
      ]
    },
    {
      "cell_type": "code",
      "source": [
        "input = 'explain why tweety flies'  #@param {type:\"string\"}\n",
        "respond(input)"
      ],
      "metadata": {
        "colab": {
          "base_uri": "https://localhost:8080/"
        },
        "outputId": "e8eec1cf-6925-40a2-ee13-17c222945d1a",
        "id": "VkovlGarNAs3"
      },
      "execution_count": 22,
      "outputs": [
        {
          "output_type": "stream",
          "name": "stdout",
          "text": [
            "Sorry, I don't think this is the case\n"
          ]
        }
      ]
    },
    {
      "cell_type": "markdown",
      "source": [
        "### Changes to the grammar\n",
        "\n",
        "Our approach to implementing default rule was based on our solution for negation. All the changed made to the grammar and the engine for negation remain. The new additions to the grammar that are specific to default rule are:\n",
        "\n",
        "- A new clause for `sentence1` to parse sentences containing the word `except`:\n",
        "```\n",
        "sentence1(C) --> determiner(N,M1,M2,_D),\n",
        "                    noun(N,M1),\n",
        "                    verb_phrase(N,M2), \n",
        "                    [except], \n",
        "                    noun(N,M3), \n",
        "                    {C=[(C1:-C2,not C3)], \n",
        "                          M1=(_X2=>C2), \n",
        "                          M2=(_X1=>C1), \n",
        "                          M3=(_X3=>C3)}.\n",
        "```\n",
        "- A few clause for `verb_phrase`:\n",
        "```\n",
        "verb_phrase(s,N) --> [does, not],iverb(p,M), {N=[(not M)]}.\n",
        "verb_phrase(p,N) --> [do, not],iverb(p,M), {N=[(not M)]}.\n",
        "```"
      ],
      "metadata": {
        "id": "sUBVOa6CiAkv"
      }
    },
    {
      "cell_type": "markdown",
      "source": [
        "### Changes to the engine\n",
        "\n",
        "As for the engine, we added a default rules to the `prove-rb` meta-interpreter. These two rules are largelly base on the definition of `not` as implemented in 'negation as failure' (Simply-Logical, ch3).\n",
        "```\n",
        "prove_rb(not A,Rulebase,P0,P):-\n",
        "    prove_rb(A,Rulebase,P0,P), !, fail.\n",
        "prove_rb(not _A,_Rulebase,P,P):-!.\n",
        "``` "
      ],
      "metadata": {
        "id": "cCDx10SyRpP4"
      }
    },
    {
      "cell_type": "markdown",
      "source": [
        "In conlcusion for this section, we can see that default-rule is a strong addition to Prolexa, but with consequences. The example below shows that Prolexa can now reach conclusions that she is unable to prove."
      ],
      "metadata": {
        "id": "80ch7wgWkYM-"
      }
    },
    {
      "cell_type": "code",
      "source": [
        "input = 'explain why peter does not fly'  #@param {type:\"string\"}\n",
        "respond(input)"
      ],
      "metadata": {
        "colab": {
          "base_uri": "https://localhost:8080/"
        },
        "outputId": "0f21fb68-f8eb-4949-cb56-22f6ad73911a",
        "id": "ols9vTpnkYM_"
      },
      "execution_count": 23,
      "outputs": [
        {
          "output_type": "stream",
          "name": "stdout",
          "text": [
            "therefore peter does not fly\n"
          ]
        }
      ]
    },
    {
      "cell_type": "markdown",
      "source": [
        "## Existential quantification\n",
        "\n",
        "The goal in this final section is to solve problems in the form:\n",
        "> Some humans are geniuses. Geniuses win prizes. Therefore, some humans win prizes.\n",
        "\n",
        "The reasoning implemented in the previous sections remains avaialble here. Let's reinstall and launch the appropriate (default) branch:"
      ],
      "metadata": {
        "id": "sPiMYLnzlRkk"
      }
    },
    {
      "cell_type": "code",
      "source": [
        "%%capture   \n",
        "\n",
        "!yes | pip uninstall prolexa -qqq > /dev/null\n",
        "!yes | pip install git+https://github.com/desmond-rn/ComputationalLogic/ -qqq > /dev/null\n",
        "\n",
        "pl = Prolog()\n",
        "meta.reset_grammar()\n",
        "meta.initialise_prolexa(pl)"
      ],
      "metadata": {
        "id": "8gxe4HxklRku"
      },
      "execution_count": 24,
      "outputs": []
    },
    {
      "cell_type": "code",
      "source": [
        "respond('forget all you know')"
      ],
      "metadata": {
        "colab": {
          "base_uri": "https://localhost:8080/"
        },
        "outputId": "b229461d-5583-4861-8162-3db148c2dd67",
        "id": "UwpchOxelRku"
      },
      "execution_count": 25,
      "outputs": [
        {
          "output_type": "stream",
          "name": "stdout",
          "text": [
            "b'I am a blank slate'\n"
          ]
        }
      ]
    },
    {
      "cell_type": "code",
      "metadata": {
        "colab": {
          "base_uri": "https://localhost:8080/"
        },
        "outputId": "734aa911-5080-4499-9e02-7997fc9d6ff8",
        "id": "CThWjrC7lRkv"
      },
      "source": [
        "input = 'Some humans are geniuses'  #@param {type:\"string\"}\n",
        "respond(input)"
      ],
      "execution_count": 26,
      "outputs": [
        {
          "output_type": "stream",
          "name": "stdout",
          "text": [
            "I will remember that Some humans are geniuses\n"
          ]
        }
      ]
    },
    {
      "cell_type": "code",
      "metadata": {
        "colab": {
          "base_uri": "https://localhost:8080/"
        },
        "outputId": "9fa1dea0-b520-4d5b-b18a-b6170d2894e1",
        "id": "ki3aZFyilRkv"
      },
      "source": [
        "input = 'Geniuses win prizes'  #@param {type:\"string\"}\n",
        "respond(input)"
      ],
      "execution_count": 27,
      "outputs": [
        {
          "output_type": "stream",
          "name": "stdout",
          "text": [
            "I already knew that Geniuses win prizes\n"
          ]
        }
      ]
    },
    {
      "cell_type": "code",
      "source": [
        "respond('tell me everything you know')"
      ],
      "metadata": {
        "colab": {
          "base_uri": "https://localhost:8080/"
        },
        "outputId": "915c6072-9fe3-41cb-c491-42544e11842c",
        "id": "zDcEj2hIlRkv"
      },
      "execution_count": 28,
      "outputs": [
        {
          "output_type": "stream",
          "name": "stdout",
          "text": [
            "some humans are geniuses. every genius wins prizes. some humans are geniuses. some geniuses are human\n"
          ]
        }
      ]
    },
    {
      "cell_type": "markdown",
      "source": [
        "Now let's test our implementation (the repetition in the explanation can be explored in a future work)."
      ],
      "metadata": {
        "id": "_XTeCj9PlRkv"
      }
    },
    {
      "cell_type": "code",
      "source": [
        "input = 'who wins prizes'  #@param {type:\"string\"}\n",
        "respond(input)"
      ],
      "metadata": {
        "colab": {
          "base_uri": "https://localhost:8080/"
        },
        "outputId": "abc1ba8e-0e43-4315-8dbd-5ca68ff53111",
        "id": "NZlt3exAlRkv"
      },
      "execution_count": 29,
      "outputs": [
        {
          "output_type": "stream",
          "name": "stdout",
          "text": [
            "b'some humans win prizes'\n"
          ]
        }
      ]
    },
    {
      "cell_type": "code",
      "source": [
        "# meta.reset_grammar()\n",
        "input = 'explain why some humans win prizes'  #@param {type:\"string\"}\n",
        "respond(input)"
      ],
      "metadata": {
        "colab": {
          "base_uri": "https://localhost:8080/"
        },
        "outputId": "7def94c3-c3af-4d8b-b697-fedf2a6447ff",
        "id": "OIzz1ZlslRkv"
      },
      "execution_count": 30,
      "outputs": [
        {
          "output_type": "stream",
          "name": "stdout",
          "text": [
            "some humans are geniuses; every genius wins prizes; some humans are geniuses; therefore some humans win prizes\n"
          ]
        }
      ]
    },
    {
      "cell_type": "markdown",
      "source": [
        "### Changes to the grammar\n",
        "\n",
        "The new additions to the grammar rules are:\n",
        "\n",
        "- New predicates for 'genius' and 'win' declaring them as noun and (intrasitive) verb respectively:\n",
        "```\n",
        "pred(genius,   1,[n/genius]).\n",
        "pred(win,     1,[v/win]).\n",
        "```\n",
        "\n",
        "- A new clause for `verb_phrase` in order to treat `win` as a transitive verb. This cheat declares `win` as an intransitive verb followed necesarily by the word 'prizes'. This was an adhoc solution in run to perform this demo as espected:\n",
        "```\n",
        "verb_phrase(N,M) --> iverb(N,M),[prizes].\n",
        "```\n",
        "\n",
        "- New clauses for `determiner` giving 'some' a \"meaning\" that can be written as a list of two clauses:\n",
        "```\n",
        "determiner(p, sk=>H1, sk=>H2, [(H1:-true),(H2:-true)]) -->[some].\n",
        "determiner(p, sk=>H1, sk=>H2, [(H2:-true),(H1:-true)]) -->[some].\n",
        "```"
      ],
      "metadata": {
        "id": "QhBydfxhlRkw"
      }
    },
    {
      "cell_type": "markdown",
      "source": [
        "### Changes to the engine\n",
        "\n",
        "Since we decided to treat the \"meaning\" of the determiner 'some' as a **list of two clauses**, this required extensive additions to the Prolexa engine:\n",
        "\n",
        "- A new `prove_question` clause:\n",
        "```\n",
        "prove_question(Query,SessionId,Answer):-\n",
        "\tfindall(R,prolexa:stored_rule(SessionId,R),Rulebase),\n",
        "\t( prove_rb([Query,SecondQuery],Rulebase) ->\n",
        "\t\ttransform([Query,SecondQuery],Clauses),\n",
        "\t\tphrase(sentence(Clauses),AnswerAtomList),\n",
        "\t\tatomics_to_string(AnswerAtomList,\" \",Answer)\n",
        "\t; Answer = 'Sorry, I don\\'t think this is the case'\n",
        "\t).\t\n",
        "```\n",
        "\n",
        "- Similarly, a new clause for `explain_question` needed for proofs:\n",
        "```\n",
        "explain_question([Query,SecondQuery],SessionId,Answer):-\n",
        "\tfindall(R,prolexa:stored_rule(SessionId,R),Rulebase),\n",
        "\t( prove_rb([Query,SecondQuery],Rulebase,[],Proof) ->\n",
        "\t\tmaplist(pstep2message,Proof,Msg),\n",
        "\t\tphrase(sentence1([(Query:-true),(SecondQuery:-true)]),L),\n",
        "\t\tatomic_list_concat([therefore|L],\" \",Last),\n",
        "\t\tappend(Msg,[Last],Messages),\n",
        "\t\tatomic_list_concat(Messages,\"; \",Answer)\n",
        "\t; Answer = 'Sorry, I don\\'t think this is the case'\n",
        "\t).\n",
        "```\n",
        "\n",
        "- New clauses for `prove_rb`:\n",
        "```\n",
        "prove_rb([true,true],_Rulebase,P,P) :- !.\n",
        "% prove_rb([A,true],Rulebase,P0,P) :- prove_rb(A,Rulebase,P0,P), !.\n",
        "% prove_rb([true,A],Rulebase,P0,P) :- prove_rb(A,Rulebase,P0,P), !.\n",
        "prove_rb([A,C],Rulebase,P0,P):-\n",
        "\tfind_clause([(A:-B),D],Rule,Rulebase),\n",
        "\t(\n",
        "\t\tvar(D) ->  \t\t%%% D is uninstantiated\n",
        "\t\tprove_rb([B,C],Rulebase,[p(A,Rule)|P0],P) \n",
        "\t\t; \n",
        "\t\tD = (C:-E),\n",
        "\t\tprove_rb([B,E],Rulebase,[p(A,Rule),p(C,Rule)|P0],P)\n",
        "\t).\n",
        "```\n",
        "\n",
        "- Another set of clauses needed for proofs:\n",
        "```\n",
        "prove_rb([A,C],Rulebase,P0,P):-\n",
        "\tprove_rb((A,C),Rulebase,P0,P).\n",
        "```\n",
        "\n",
        "- At the heart of our approach, we devised a new strategy for finding body of clauses whose heads are known and unifiable; this with lists:\n",
        "```\n",
        "find_clause(Clause,Rule,[Rule|_Rules]):-\n",
        "\tRule = [Rule1|Rule2],\n",
        "\t(\n",
        "\t\tClause = [Clause1,Clause2] ->\n",
        "\t\t(\n",
        "\t\t\tcopy_term([Rule1],[Clause1]) ->\n",
        "\t\t\t( Rule2 = [El|_] -> Clause2 = El ; true )\n",
        "\t\t\t; copy_term(Rule2,[Clause1]),\n",
        "\t\t\tClause2 = Rule1\n",
        "\t\t)\n",
        "\t\t;\n",
        "\t\t(\n",
        "\t\t\tcopy_term([Rule1],[Clause]) ->\n",
        "\t\t\ttrue\n",
        "\t\t; \tcopy_term(Rule2,[Clause])\n",
        "\t\t)\n",
        "\t).\n",
        "find_clause(Clause,Rule,[_Rule|Rules]):-\n",
        "\tfind_clause(Clause,Rule,Rules).\n",
        "```\n",
        "\n",
        "- Finaly, A new clause to turn literrals in lists into clauses by adding `true` to their body:\n",
        "```\n",
        "transform([A,B],[(A:-true),(B:-true)]).\n",
        "```"
      ],
      "metadata": {
        "id": "8nXghmnPlRkw"
      }
    },
    {
      "cell_type": "markdown",
      "source": [
        "## Future work\n",
        "\n",
        "Negation, default rule and existential quantification are all interresting aditions to Prolexa's reasoning capabilities. At the moment, most of these reaning techniques do not function together. For example, Prolexa is unable to parse the following sentence:\n",
        "> Some humans are not happy\n",
        "\n",
        "Combiniing these techniques will be part of our future work on this problem, along with implementing disjuction and abduction. "
      ],
      "metadata": {
        "id": "N7N-xYeSkIBX"
      }
    }
  ]
}